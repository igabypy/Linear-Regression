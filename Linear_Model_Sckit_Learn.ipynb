{
  "nbformat": 4,
  "nbformat_minor": 0,
  "metadata": {
    "colab": {
      "provenance": [],
      "authorship_tag": "ABX9TyNh5WMEFfzpaXdqwWY5Mo/y",
      "include_colab_link": true
    },
    "kernelspec": {
      "name": "python3",
      "display_name": "Python 3"
    },
    "language_info": {
      "name": "python"
    }
  },
  "cells": [
    {
      "cell_type": "markdown",
      "metadata": {
        "id": "view-in-github",
        "colab_type": "text"
      },
      "source": [
        "<a href=\"https://colab.research.google.com/github/igabypy/Linear-Regression/blob/main/Linear_Model_Sckit_Learn.ipynb\" target=\"_parent\"><img src=\"https://colab.research.google.com/assets/colab-badge.svg\" alt=\"Open In Colab\"/></a>"
      ]
    },
    {
      "cell_type": "markdown",
      "source": [
        "## This code shows a short linear model. Using Sckit-Learn and a simple data list."
      ],
      "metadata": {
        "id": "Yatt8_ZB4Dl-"
      }
    },
    {
      "cell_type": "code",
      "source": [
        "# Firstly, import the Linear regression model from Sckit-Learn.\n",
        "\n",
        "import numpy as np\n",
        "from sklearn.linear_model import LinearRegression"
      ],
      "metadata": {
        "id": "OKLbM5Yu5121"
      },
      "execution_count": null,
      "outputs": []
    },
    {
      "cell_type": "code",
      "source": [
        "# The data\n",
        "X = [5, 15, 25, 35, 45, 55]\n",
        "y = [10, 12, 25, 6, 27, 36]\n",
        "\n",
        "# To define the model\n",
        "model = LinearRegression()\n",
        "\n",
        "# To reshape the data \n",
        "X = np.c_[X]\n",
        "y = np.c_[y]\n",
        "\n",
        "# To get the data into the model\n",
        "model.fit(X, y)\n",
        "\n",
        "# To know the coefficient of determination of the prediction.\n",
        "cof = model.score(X,y)\n",
        "\n",
        "print(cof)"
      ],
      "metadata": {
        "colab": {
          "base_uri": "https://localhost:8080/"
        },
        "id": "zZmbxMH96FXX",
        "outputId": "bf4edeb1-1de1-4663-e619-aeb44cc6521b"
      },
      "execution_count": null,
      "outputs": [
        {
          "output_type": "stream",
          "name": "stdout",
          "text": [
            "0.5058057364555908\n"
          ]
        }
      ]
    },
    {
      "cell_type": "code",
      "source": [],
      "metadata": {
        "id": "48v611V27JpH"
      },
      "execution_count": null,
      "outputs": []
    }
  ]
}